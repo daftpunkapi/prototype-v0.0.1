{
 "cells": [
  {
   "cell_type": "code",
   "execution_count": 156,
   "metadata": {},
   "outputs": [],
   "source": [
    "%reset -f"
   ]
  },
  {
   "cell_type": "code",
   "execution_count": 157,
   "metadata": {},
   "outputs": [],
   "source": [
    "import pandas as pd\n",
    "import numpy as np\n",
    "import mysql.connector\n",
    "from sklearn.metrics.pairwise import cosine_similarity, linear_kernel\n",
    "df_user = pd.read_csv('Order_history.csv')\n",
    "df_rest = pd.read_csv('Rest_Info.csv')"
   ]
  },
  {
   "cell_type": "code",
   "execution_count": 158,
   "metadata": {},
   "outputs": [
    {
     "data": {
      "text/html": [
       "<div>\n",
       "<style scoped>\n",
       "    .dataframe tbody tr th:only-of-type {\n",
       "        vertical-align: middle;\n",
       "    }\n",
       "\n",
       "    .dataframe tbody tr th {\n",
       "        vertical-align: top;\n",
       "    }\n",
       "\n",
       "    .dataframe thead th {\n",
       "        text-align: right;\n",
       "    }\n",
       "</style>\n",
       "<table border=\"1\" class=\"dataframe\">\n",
       "  <thead>\n",
       "    <tr style=\"text-align: right;\">\n",
       "      <th></th>\n",
       "      <th>customer_id</th>\n",
       "      <th>order_id</th>\n",
       "      <th>rest_id</th>\n",
       "    </tr>\n",
       "  </thead>\n",
       "  <tbody>\n",
       "    <tr>\n",
       "      <th>0</th>\n",
       "      <td>User9</td>\n",
       "      <td>1</td>\n",
       "      <td>6487f4c6fc13ae161d900937</td>\n",
       "    </tr>\n",
       "    <tr>\n",
       "      <th>1</th>\n",
       "      <td>User9</td>\n",
       "      <td>2</td>\n",
       "      <td>6487f4c6fc13ae161d900915</td>\n",
       "    </tr>\n",
       "    <tr>\n",
       "      <th>2</th>\n",
       "      <td>User8</td>\n",
       "      <td>3</td>\n",
       "      <td>6487f4c6fc13ae161d900939</td>\n",
       "    </tr>\n",
       "    <tr>\n",
       "      <th>3</th>\n",
       "      <td>User1</td>\n",
       "      <td>4</td>\n",
       "      <td>6487f4c6fc13ae161d900946</td>\n",
       "    </tr>\n",
       "    <tr>\n",
       "      <th>4</th>\n",
       "      <td>User1</td>\n",
       "      <td>5</td>\n",
       "      <td>6487f4c6fc13ae161d9008fc</td>\n",
       "    </tr>\n",
       "  </tbody>\n",
       "</table>\n",
       "</div>"
      ],
      "text/plain": [
       "  customer_id  order_id                   rest_id\n",
       "0       User9         1  6487f4c6fc13ae161d900937\n",
       "1       User9         2  6487f4c6fc13ae161d900915\n",
       "2       User8         3  6487f4c6fc13ae161d900939\n",
       "3       User1         4  6487f4c6fc13ae161d900946\n",
       "4       User1         5  6487f4c6fc13ae161d9008fc"
      ]
     },
     "execution_count": 158,
     "metadata": {},
     "output_type": "execute_result"
    }
   ],
   "source": [
    "df_user.head()"
   ]
  },
  {
   "cell_type": "code",
   "execution_count": 159,
   "metadata": {},
   "outputs": [
    {
     "data": {
      "text/html": [
       "<div>\n",
       "<style scoped>\n",
       "    .dataframe tbody tr th:only-of-type {\n",
       "        vertical-align: middle;\n",
       "    }\n",
       "\n",
       "    .dataframe tbody tr th {\n",
       "        vertical-align: top;\n",
       "    }\n",
       "\n",
       "    .dataframe thead th {\n",
       "        text-align: right;\n",
       "    }\n",
       "</style>\n",
       "<table border=\"1\" class=\"dataframe\">\n",
       "  <thead>\n",
       "    <tr style=\"text-align: right;\">\n",
       "      <th></th>\n",
       "      <th>rest_id</th>\n",
       "      <th>rest_name</th>\n",
       "      <th>zone</th>\n",
       "      <th>rating</th>\n",
       "      <th>cuisine</th>\n",
       "      <th>budget</th>\n",
       "    </tr>\n",
       "  </thead>\n",
       "  <tbody>\n",
       "    <tr>\n",
       "      <th>0</th>\n",
       "      <td>6487f4c6fc13ae161d9008e3</td>\n",
       "      <td>Durgan-Haag</td>\n",
       "      <td>North</td>\n",
       "      <td>1.4</td>\n",
       "      <td>mexican</td>\n",
       "      <td>5</td>\n",
       "    </tr>\n",
       "    <tr>\n",
       "      <th>1</th>\n",
       "      <td>6487f4c6fc13ae161d9008e4</td>\n",
       "      <td>Jacobson Group</td>\n",
       "      <td>South</td>\n",
       "      <td>2.6</td>\n",
       "      <td>indian</td>\n",
       "      <td>5</td>\n",
       "    </tr>\n",
       "    <tr>\n",
       "      <th>2</th>\n",
       "      <td>6487f4c6fc13ae161d9008e5</td>\n",
       "      <td>Hintz, Harris and Beer</td>\n",
       "      <td>South</td>\n",
       "      <td>3.6</td>\n",
       "      <td>italian</td>\n",
       "      <td>1</td>\n",
       "    </tr>\n",
       "    <tr>\n",
       "      <th>3</th>\n",
       "      <td>6487f4c6fc13ae161d9008e6</td>\n",
       "      <td>Kling LLC</td>\n",
       "      <td>West</td>\n",
       "      <td>1.2</td>\n",
       "      <td>italian</td>\n",
       "      <td>3</td>\n",
       "    </tr>\n",
       "    <tr>\n",
       "      <th>4</th>\n",
       "      <td>6487f4c6fc13ae161d9008e7</td>\n",
       "      <td>Beer-Kuhic</td>\n",
       "      <td>North</td>\n",
       "      <td>4.7</td>\n",
       "      <td>italian</td>\n",
       "      <td>5</td>\n",
       "    </tr>\n",
       "  </tbody>\n",
       "</table>\n",
       "</div>"
      ],
      "text/plain": [
       "                    rest_id               rest_name   zone  rating  cuisine  \\\n",
       "0  6487f4c6fc13ae161d9008e3             Durgan-Haag  North     1.4  mexican   \n",
       "1  6487f4c6fc13ae161d9008e4          Jacobson Group  South     2.6   indian   \n",
       "2  6487f4c6fc13ae161d9008e5  Hintz, Harris and Beer  South     3.6  italian   \n",
       "3  6487f4c6fc13ae161d9008e6               Kling LLC   West     1.2  italian   \n",
       "4  6487f4c6fc13ae161d9008e7              Beer-Kuhic  North     4.7  italian   \n",
       "\n",
       "   budget  \n",
       "0       5  \n",
       "1       5  \n",
       "2       1  \n",
       "3       3  \n",
       "4       5  "
      ]
     },
     "execution_count": 159,
     "metadata": {},
     "output_type": "execute_result"
    }
   ],
   "source": [
    "df_rest.head()"
   ]
  },
  {
   "cell_type": "code",
   "execution_count": 160,
   "metadata": {},
   "outputs": [],
   "source": [
    "user = 'User7'\n",
    "zone = 'South'\n",
    "\n",
    "df_user = df_user[df_user['customer_id'] == user]"
   ]
  },
  {
   "cell_type": "code",
   "execution_count": 161,
   "metadata": {},
   "outputs": [
    {
     "data": {
      "text/html": [
       "<div>\n",
       "<style scoped>\n",
       "    .dataframe tbody tr th:only-of-type {\n",
       "        vertical-align: middle;\n",
       "    }\n",
       "\n",
       "    .dataframe tbody tr th {\n",
       "        vertical-align: top;\n",
       "    }\n",
       "\n",
       "    .dataframe thead th {\n",
       "        text-align: right;\n",
       "    }\n",
       "</style>\n",
       "<table border=\"1\" class=\"dataframe\">\n",
       "  <thead>\n",
       "    <tr style=\"text-align: right;\">\n",
       "      <th></th>\n",
       "      <th>customer_id</th>\n",
       "      <th>order_id</th>\n",
       "      <th>rest_id</th>\n",
       "      <th>rest_name</th>\n",
       "      <th>zone</th>\n",
       "      <th>rating</th>\n",
       "      <th>cuisine</th>\n",
       "      <th>budget</th>\n",
       "    </tr>\n",
       "  </thead>\n",
       "  <tbody>\n",
       "    <tr>\n",
       "      <th>0</th>\n",
       "      <td>User7</td>\n",
       "      <td>6</td>\n",
       "      <td>6487f4c6fc13ae161d900945</td>\n",
       "      <td>Brakus and Sons</td>\n",
       "      <td>South</td>\n",
       "      <td>5.0</td>\n",
       "      <td>indian</td>\n",
       "      <td>5</td>\n",
       "    </tr>\n",
       "    <tr>\n",
       "      <th>1</th>\n",
       "      <td>User7</td>\n",
       "      <td>10</td>\n",
       "      <td>6487f4c6fc13ae161d900940</td>\n",
       "      <td>Weimann, Gusikowski and Stracke</td>\n",
       "      <td>East</td>\n",
       "      <td>4.3</td>\n",
       "      <td>italian</td>\n",
       "      <td>3</td>\n",
       "    </tr>\n",
       "    <tr>\n",
       "      <th>2</th>\n",
       "      <td>User7</td>\n",
       "      <td>37</td>\n",
       "      <td>6487f4c6fc13ae161d900915</td>\n",
       "      <td>Frami, McGlynn and VonRueden</td>\n",
       "      <td>North</td>\n",
       "      <td>1.8</td>\n",
       "      <td>indian</td>\n",
       "      <td>3</td>\n",
       "    </tr>\n",
       "    <tr>\n",
       "      <th>3</th>\n",
       "      <td>User7</td>\n",
       "      <td>41</td>\n",
       "      <td>6487f4c6fc13ae161d90093b</td>\n",
       "      <td>Tromp-Boehm</td>\n",
       "      <td>South</td>\n",
       "      <td>1.5</td>\n",
       "      <td>indian</td>\n",
       "      <td>3</td>\n",
       "    </tr>\n",
       "    <tr>\n",
       "      <th>4</th>\n",
       "      <td>User7</td>\n",
       "      <td>58</td>\n",
       "      <td>6487f4c6fc13ae161d90093c</td>\n",
       "      <td>Grady, Purdy and Christiansen</td>\n",
       "      <td>West</td>\n",
       "      <td>3.5</td>\n",
       "      <td>indian</td>\n",
       "      <td>2</td>\n",
       "    </tr>\n",
       "    <tr>\n",
       "      <th>5</th>\n",
       "      <td>User7</td>\n",
       "      <td>68</td>\n",
       "      <td>6487f4c6fc13ae161d900941</td>\n",
       "      <td>Sipes, Kshlerin and Kuhlman</td>\n",
       "      <td>West</td>\n",
       "      <td>4.2</td>\n",
       "      <td>indian</td>\n",
       "      <td>1</td>\n",
       "    </tr>\n",
       "    <tr>\n",
       "      <th>6</th>\n",
       "      <td>User7</td>\n",
       "      <td>70</td>\n",
       "      <td>6487f4c6fc13ae161d900936</td>\n",
       "      <td>Daugherty LLC</td>\n",
       "      <td>East</td>\n",
       "      <td>5.0</td>\n",
       "      <td>mexican</td>\n",
       "      <td>4</td>\n",
       "    </tr>\n",
       "    <tr>\n",
       "      <th>7</th>\n",
       "      <td>User7</td>\n",
       "      <td>72</td>\n",
       "      <td>6487f4c6fc13ae161d90093b</td>\n",
       "      <td>Tromp-Boehm</td>\n",
       "      <td>South</td>\n",
       "      <td>1.5</td>\n",
       "      <td>indian</td>\n",
       "      <td>3</td>\n",
       "    </tr>\n",
       "    <tr>\n",
       "      <th>8</th>\n",
       "      <td>User7</td>\n",
       "      <td>75</td>\n",
       "      <td>6487f4c6fc13ae161d900909</td>\n",
       "      <td>Mayert-Kunze</td>\n",
       "      <td>North</td>\n",
       "      <td>2.0</td>\n",
       "      <td>indian</td>\n",
       "      <td>5</td>\n",
       "    </tr>\n",
       "    <tr>\n",
       "      <th>9</th>\n",
       "      <td>User7</td>\n",
       "      <td>86</td>\n",
       "      <td>6487f4c6fc13ae161d9008e3</td>\n",
       "      <td>Durgan-Haag</td>\n",
       "      <td>North</td>\n",
       "      <td>1.4</td>\n",
       "      <td>mexican</td>\n",
       "      <td>5</td>\n",
       "    </tr>\n",
       "  </tbody>\n",
       "</table>\n",
       "</div>"
      ],
      "text/plain": [
       "  customer_id  order_id                   rest_id  \\\n",
       "0       User7         6  6487f4c6fc13ae161d900945   \n",
       "1       User7        10  6487f4c6fc13ae161d900940   \n",
       "2       User7        37  6487f4c6fc13ae161d900915   \n",
       "3       User7        41  6487f4c6fc13ae161d90093b   \n",
       "4       User7        58  6487f4c6fc13ae161d90093c   \n",
       "5       User7        68  6487f4c6fc13ae161d900941   \n",
       "6       User7        70  6487f4c6fc13ae161d900936   \n",
       "7       User7        72  6487f4c6fc13ae161d90093b   \n",
       "8       User7        75  6487f4c6fc13ae161d900909   \n",
       "9       User7        86  6487f4c6fc13ae161d9008e3   \n",
       "\n",
       "                         rest_name   zone  rating  cuisine  budget  \n",
       "0                  Brakus and Sons  South     5.0   indian       5  \n",
       "1  Weimann, Gusikowski and Stracke   East     4.3  italian       3  \n",
       "2     Frami, McGlynn and VonRueden  North     1.8   indian       3  \n",
       "3                      Tromp-Boehm  South     1.5   indian       3  \n",
       "4    Grady, Purdy and Christiansen   West     3.5   indian       2  \n",
       "5      Sipes, Kshlerin and Kuhlman   West     4.2   indian       1  \n",
       "6                    Daugherty LLC   East     5.0  mexican       4  \n",
       "7                      Tromp-Boehm  South     1.5   indian       3  \n",
       "8                     Mayert-Kunze  North     2.0   indian       5  \n",
       "9                      Durgan-Haag  North     1.4  mexican       5  "
      ]
     },
     "execution_count": 161,
     "metadata": {},
     "output_type": "execute_result"
    }
   ],
   "source": [
    "df = df_user.merge(df_rest, on  = \"rest_id\", how= \"left\").sort_values(by= \"order_id\")\n",
    "df.head(10)"
   ]
  },
  {
   "cell_type": "code",
   "execution_count": 162,
   "metadata": {},
   "outputs": [],
   "source": [
    "# Replace the placeholders with your MySQL connection details\n",
    "connection = mysql.connector.connect(\n",
    "    host='localhost',\n",
    "    port = '3306',\n",
    "    user='root',\n",
    "    password='sw23',\n",
    "    database='flink'\n",
    ")\n",
    "cursor = connection.cursor()\n",
    "query = \"SELECT * FROM pending_orders_table;\"\n",
    "cursor.execute(query)\n",
    "result = cursor.fetchall()"
   ]
  },
  {
   "cell_type": "code",
   "execution_count": 163,
   "metadata": {},
   "outputs": [],
   "source": [
    "# convert SQL result to pandas dataframe and merge the restaurant info to the live restaurant data\n",
    "rest_live_df = pd.DataFrame(result, columns= [\"rest_id\", \"pending_count\"])\n",
    "del connection, cursor, query, result"
   ]
  },
  {
   "cell_type": "code",
   "execution_count": 164,
   "metadata": {},
   "outputs": [],
   "source": [
    "# filter by zone -- 'hard coded' right now but get from POST request\n",
    "rest_live_df = rest_live_df.merge(df_rest, on=\"rest_id\", how = \"left\")\n",
    "rest_live_df = rest_live_df[rest_live_df['zone'] == zone]"
   ]
  },
  {
   "cell_type": "code",
   "execution_count": 165,
   "metadata": {},
   "outputs": [],
   "source": [
    "# one hot encoding categorical variables\n",
    "def encode_categorical(df, columns):\n",
    "    return pd.get_dummies(df, columns=columns)"
   ]
  },
  {
   "cell_type": "code",
   "execution_count": 166,
   "metadata": {},
   "outputs": [],
   "source": [
    "user_orders_encoded = encode_categorical(df, ['cuisine'])\n",
    "rest_live_encoded = encode_categorical(rest_live_df, ['cuisine'])"
   ]
  },
  {
   "cell_type": "code",
   "execution_count": 167,
   "metadata": {},
   "outputs": [],
   "source": [
    "features = ['rating', 'budget', 'cuisine_indian', 'cuisine_italian', 'cuisine_mexican']"
   ]
  },
  {
   "cell_type": "code",
   "execution_count": 168,
   "metadata": {},
   "outputs": [],
   "source": [
    "user_features = user_orders_encoded[features].values\n",
    "rest_live_features = rest_live_encoded[features].values"
   ]
  },
  {
   "cell_type": "code",
   "execution_count": 169,
   "metadata": {},
   "outputs": [],
   "source": [
    "similarity_matrix = cosine_similarity(user_features, rest_live_features)\n",
    "similarity_df = pd.DataFrame(similarity_matrix, index=df.rest_id, columns=rest_live_df.index)"
   ]
  },
  {
   "cell_type": "code",
   "execution_count": 170,
   "metadata": {},
   "outputs": [],
   "source": [
    "ranked_restaurants = similarity_df.idxmax(axis=1).map(rest_live_df['rest_id'])"
   ]
  },
  {
   "cell_type": "code",
   "execution_count": 171,
   "metadata": {},
   "outputs": [],
   "source": [
    "ranked_restaurants = ranked_restaurants.reset_index().rename(columns = {'rest_id' : 'user_order_rest_id', 0 : 'similar_rest_id'})"
   ]
  },
  {
   "cell_type": "code",
   "execution_count": 172,
   "metadata": {},
   "outputs": [],
   "source": [
    "df_groupped = ranked_restaurants.groupby('similar_rest_id').count()\n",
    "df_groupped = df_groupped.rename(columns={'user_order_rest_id': 'count'})"
   ]
  },
  {
   "cell_type": "code",
   "execution_count": 173,
   "metadata": {},
   "outputs": [],
   "source": [
    "df_groupped['rank_similar'] = df_groupped['count'].rank(method='min', ascending=False)"
   ]
  },
  {
   "cell_type": "code",
   "execution_count": 174,
   "metadata": {},
   "outputs": [],
   "source": [
    "df_groupped = df_groupped.merge(rest_live_df, left_on=\"similar_rest_id\", right_on = \"rest_id\", how = \"left\")"
   ]
  },
  {
   "cell_type": "code",
   "execution_count": 175,
   "metadata": {},
   "outputs": [],
   "source": [
    "df_groupped['rank_pending'] = df_groupped['pending_count'].rank(method='min', ascending=False)"
   ]
  },
  {
   "cell_type": "code",
   "execution_count": 176,
   "metadata": {},
   "outputs": [],
   "source": [
    "df_groupped['final_wt'] = (df_groupped['rank_pending'] * 0.2) + (df_groupped['rank_similar'] * 0.8)\n",
    "df_groupped['final_rank'] = df_groupped['final_wt'].rank(method='min', ascending=True)"
   ]
  },
  {
   "cell_type": "code",
   "execution_count": 177,
   "metadata": {},
   "outputs": [],
   "source": [
    "x = df_groupped.sort_values('final_rank', ascending = True).head(5)"
   ]
  },
  {
   "cell_type": "code",
   "execution_count": 178,
   "metadata": {},
   "outputs": [
    {
     "data": {
      "text/html": [
       "<div>\n",
       "<style scoped>\n",
       "    .dataframe tbody tr th:only-of-type {\n",
       "        vertical-align: middle;\n",
       "    }\n",
       "\n",
       "    .dataframe tbody tr th {\n",
       "        vertical-align: top;\n",
       "    }\n",
       "\n",
       "    .dataframe thead th {\n",
       "        text-align: right;\n",
       "    }\n",
       "</style>\n",
       "<table border=\"1\" class=\"dataframe\">\n",
       "  <thead>\n",
       "    <tr style=\"text-align: right;\">\n",
       "      <th></th>\n",
       "      <th>rest_id</th>\n",
       "      <th>rest_name</th>\n",
       "      <th>cuisine</th>\n",
       "      <th>budget</th>\n",
       "      <th>rating</th>\n",
       "    </tr>\n",
       "  </thead>\n",
       "  <tbody>\n",
       "    <tr>\n",
       "      <th>0</th>\n",
       "      <td>6487f4c6fc13ae161d90092f</td>\n",
       "      <td>Torp, Gusikowski and Bins</td>\n",
       "      <td>mexican</td>\n",
       "      <td>4</td>\n",
       "      <td>4.2</td>\n",
       "    </tr>\n",
       "    <tr>\n",
       "      <th>1</th>\n",
       "      <td>6487f4c6fc13ae161d900944</td>\n",
       "      <td>Kling, Leuschke and Bechtelar</td>\n",
       "      <td>indian</td>\n",
       "      <td>4</td>\n",
       "      <td>1.8</td>\n",
       "    </tr>\n",
       "    <tr>\n",
       "      <th>2</th>\n",
       "      <td>6487f4c6fc13ae161d9008f0</td>\n",
       "      <td>Becker, Crona and Schimmel</td>\n",
       "      <td>mexican</td>\n",
       "      <td>3</td>\n",
       "      <td>1.4</td>\n",
       "    </tr>\n",
       "    <tr>\n",
       "      <th>3</th>\n",
       "      <td>6487f4c6fc13ae161d9008f3</td>\n",
       "      <td>Witting and Sons</td>\n",
       "      <td>indian</td>\n",
       "      <td>1</td>\n",
       "      <td>2.2</td>\n",
       "    </tr>\n",
       "    <tr>\n",
       "      <th>4</th>\n",
       "      <td>6487f4c6fc13ae161d900925</td>\n",
       "      <td>Blick-Gleichner</td>\n",
       "      <td>italian</td>\n",
       "      <td>3</td>\n",
       "      <td>2.3</td>\n",
       "    </tr>\n",
       "  </tbody>\n",
       "</table>\n",
       "</div>"
      ],
      "text/plain": [
       "                    rest_id                      rest_name  cuisine  budget  \\\n",
       "0  6487f4c6fc13ae161d90092f      Torp, Gusikowski and Bins  mexican       4   \n",
       "1  6487f4c6fc13ae161d900944  Kling, Leuschke and Bechtelar   indian       4   \n",
       "2  6487f4c6fc13ae161d9008f0     Becker, Crona and Schimmel  mexican       3   \n",
       "3  6487f4c6fc13ae161d9008f3               Witting and Sons   indian       1   \n",
       "4  6487f4c6fc13ae161d900925                Blick-Gleichner  italian       3   \n",
       "\n",
       "   rating  \n",
       "0     4.2  \n",
       "1     1.8  \n",
       "2     1.4  \n",
       "3     2.2  \n",
       "4     2.3  "
      ]
     },
     "execution_count": 178,
     "metadata": {},
     "output_type": "execute_result"
    }
   ],
   "source": [
    "x[['rest_id', 'rest_name', 'cuisine', 'budget', 'rating']].reset_index(drop = True)"
   ]
  }
 ],
 "metadata": {
  "kernelspec": {
   "display_name": "zomato",
   "language": "python",
   "name": "python3"
  },
  "language_info": {
   "codemirror_mode": {
    "name": "ipython",
    "version": 3
   },
   "file_extension": ".py",
   "mimetype": "text/x-python",
   "name": "python",
   "nbconvert_exporter": "python",
   "pygments_lexer": "ipython3",
   "version": "3.8.2"
  },
  "orig_nbformat": 4
 },
 "nbformat": 4,
 "nbformat_minor": 2
}
